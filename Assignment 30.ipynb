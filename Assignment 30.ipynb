{
 "cells": [
  {
   "cell_type": "markdown",
   "id": "f9a8ca51-26db-4811-8f27-d4f754230dff",
   "metadata": {},
   "source": [
    "## Q1. What are the three measures of central tendency?"
   ]
  },
  {
   "cell_type": "markdown",
   "id": "ae5fedb0-9788-442c-81b6-0d87d9b3d214",
   "metadata": {},
   "source": [
    "### 1. Mean\n",
    "### 2. Median\n",
    "### 3. Mode"
   ]
  },
  {
   "cell_type": "markdown",
   "id": "9cb435cf-cb93-4fba-b433-27b032c59e69",
   "metadata": {},
   "source": [
    "## Q2. What is the difference between the mean, median, and mode? How are they used to measure the central tendency of a dataset?"
   ]
  },
  {
   "cell_type": "markdown",
   "id": "9d50d093-a156-485d-8c55-e20e4afba4cb",
   "metadata": {},
   "source": [
    "### Mean calculate the average value of dataset.\n",
    "### Median calculate the medium value of sorted data.\n",
    "### Mode calculate the value with highest frequency.\n",
    "### Each one of these try to give the central value of distribution, in different aspects."
   ]
  },
  {
   "cell_type": "markdown",
   "id": "9059a497-fada-4526-9e38-186ea0355ae8",
   "metadata": {},
   "source": [
    "## Q3. Measure the three measures of central tendency for the given height data:\n",
    "[178,177,176,177,178.2,178,175,179,180,175,178.9,176.2,177,172.5,178,176.5]"
   ]
  },
  {
   "cell_type": "code",
   "execution_count": 1,
   "id": "48e1bae4-fe90-4fe0-9ce4-d6c405b88508",
   "metadata": {},
   "outputs": [],
   "source": [
    "data1=[178,177,176,177,178.2,178,175,179,180,175,178.9,176.2,177,172.5,178,176.5]"
   ]
  },
  {
   "cell_type": "code",
   "execution_count": 7,
   "id": "92149c2a-13e8-4558-91c6-7ac41034fa71",
   "metadata": {},
   "outputs": [],
   "source": [
    "from scipy import stats\n",
    "import numpy as np"
   ]
  },
  {
   "cell_type": "code",
   "execution_count": 10,
   "id": "e2297a3d-4e78-4db7-aa7c-c872e033115c",
   "metadata": {},
   "outputs": [
    {
     "data": {
      "text/plain": [
       "177.01875"
      ]
     },
     "execution_count": 10,
     "metadata": {},
     "output_type": "execute_result"
    }
   ],
   "source": [
    "Mean= np.mean(data1)\n",
    "Mean"
   ]
  },
  {
   "cell_type": "code",
   "execution_count": 13,
   "id": "8eca1145-0a69-49d8-a1c8-5eca521eb9ed",
   "metadata": {},
   "outputs": [
    {
     "data": {
      "text/plain": [
       "177.0"
      ]
     },
     "execution_count": 13,
     "metadata": {},
     "output_type": "execute_result"
    }
   ],
   "source": [
    "Median=np.median(data1)\n",
    "Median"
   ]
  },
  {
   "cell_type": "code",
   "execution_count": 15,
   "id": "43233c70-0a37-4954-a55c-46c70c3cdcf5",
   "metadata": {},
   "outputs": [
    {
     "name": "stderr",
     "output_type": "stream",
     "text": [
      "/tmp/ipykernel_4722/662907179.py:1: FutureWarning: Unlike other reduction functions (e.g. `skew`, `kurtosis`), the default behavior of `mode` typically preserves the axis it acts along. In SciPy 1.11.0, this behavior will change: the default value of `keepdims` will become False, the `axis` over which the statistic is taken will be eliminated, and the value None will no longer be accepted. Set `keepdims` to True or False to avoid this warning.\n",
      "  Mode=stats.mode(data1)\n"
     ]
    },
    {
     "data": {
      "text/plain": [
       "ModeResult(mode=array([177.]), count=array([3]))"
      ]
     },
     "execution_count": 15,
     "metadata": {},
     "output_type": "execute_result"
    }
   ],
   "source": [
    "Mode=stats.mode(data1)\n",
    "Mode"
   ]
  },
  {
   "cell_type": "markdown",
   "id": "4e925336-368e-48ce-8c91-e7052e938d78",
   "metadata": {},
   "source": [
    "## Q4. Find the standard deviation for the given data:\n",
    "[178,177,176,177,178.2,178,175,179,180,175,178.9,176.2,177,172.5,178,176.5]"
   ]
  },
  {
   "cell_type": "code",
   "execution_count": 16,
   "id": "52446b37-4f30-45f4-badb-10dc5d416c27",
   "metadata": {},
   "outputs": [],
   "source": [
    "Std=np.std(data1)"
   ]
  },
  {
   "cell_type": "code",
   "execution_count": 17,
   "id": "9d3bb890-6249-4bfa-99c5-c55b3b328b56",
   "metadata": {},
   "outputs": [
    {
     "data": {
      "text/plain": [
       "1.7885814036548633"
      ]
     },
     "execution_count": 17,
     "metadata": {},
     "output_type": "execute_result"
    }
   ],
   "source": [
    "Std"
   ]
  },
  {
   "cell_type": "markdown",
   "id": "447226a6-014a-4731-b6ce-82d2593517e7",
   "metadata": {},
   "source": [
    "## Q5. How are measures of dispersion such as range, variance, and standard deviation used to describe the spread of a dataset? Provide an example."
   ]
  },
  {
   "cell_type": "markdown",
   "id": "30110e1e-7d4c-476a-90d3-38338e58b254",
   "metadata": {},
   "source": [
    "### Range, gives the difference between max value and min value.\n",
    "### Variance, gives the spread of data about mean.\n",
    "### Standard Deviation, express the distance from the mean"
   ]
  },
  {
   "cell_type": "markdown",
   "id": "eb5db517-d48d-47d3-92e4-bd328e1fc367",
   "metadata": {},
   "source": [
    "## Q6. What is a Venn diagram?"
   ]
  },
  {
   "cell_type": "markdown",
   "id": "f52fbc84-471b-4ff9-9465-527e5ecf971b",
   "metadata": {},
   "source": [
    "### A Venn diagram is an illustration that uses circles to show the relationships among sets or finite groups of sets."
   ]
  },
  {
   "cell_type": "markdown",
   "id": "53e99534-1d5e-4311-8389-f22dca2dd56f",
   "metadata": {},
   "source": [
    "## Q7. For the two given sets A = (2,3,4,5,6,7) & B = (0,2,6,8,10). Find:\n",
    "### (i) A B\n",
    "### (ii) A ⋃ B"
   ]
  },
  {
   "cell_type": "markdown",
   "id": "cd1e05a4-2d0f-4879-8140-bcd3880802f7",
   "metadata": {},
   "source": [
    "### 1. {2,6}\n",
    "### 2. {0,2,3,4,5,6,7,8,10}"
   ]
  },
  {
   "cell_type": "markdown",
   "id": "b0cd92b5-7292-460a-8859-77604e0dc993",
   "metadata": {},
   "source": [
    "## Q8. What do you understand about skewness in data?"
   ]
  },
  {
   "cell_type": "markdown",
   "id": "b89e2cae-8155-4732-babd-fff9921903ca",
   "metadata": {},
   "source": [
    "### Skewness is a measurement of the distortion of symmetrical distribution or asymmetry in a data set. "
   ]
  },
  {
   "cell_type": "markdown",
   "id": "7de998e5-a4f8-4b6a-9308-8c06aed10908",
   "metadata": {},
   "source": [
    "## Q9. If a data is right skewed then what will be the position of median with respect to mean?"
   ]
  },
  {
   "cell_type": "markdown",
   "id": "c59aabb5-649d-4a0f-834d-c346ea5a462e",
   "metadata": {},
   "source": [
    "### Then median will be in left of mean."
   ]
  },
  {
   "cell_type": "markdown",
   "id": "88d50272-d458-4598-b873-86a410aa2cef",
   "metadata": {},
   "source": [
    "## Q10. Explain the difference between covariance and correlation. How are these measures used in statistical analysis?"
   ]
  },
  {
   "cell_type": "markdown",
   "id": "4ae25104-5f4c-4a4e-9f3f-255bc4a56579",
   "metadata": {},
   "source": [
    "### Covariance is an indicator of the extent to which 2 random variables are dependent on each other. A higher number denotes higher dependency. The value of covariance lies in the range of -∞ and +∞.\n",
    "\n",
    "### Correlation is a statistical measure that indicates how strongly two variables are related. Correlation is limited to values between the range -1 and +1"
   ]
  },
  {
   "cell_type": "markdown",
   "id": "d7a7359f-795f-4793-9d69-7d04efbb3834",
   "metadata": {},
   "source": [
    "### Covariance indicates whether two variables fluctuate in the same (positive covariance) or opposite direction (negative covariance). The numerical value of covariance has no importance; only the sign is relevant. Correlation, on the other hand, describes how a change in one variable leads to a change in the percentage of the second variable."
   ]
  },
  {
   "cell_type": "markdown",
   "id": "a1b49dd3-880a-4490-9d7d-bba896d23eda",
   "metadata": {},
   "source": [
    "## Q11. What is the formula for calculating the sample mean? Provide an example calculation for a dataset."
   ]
  },
  {
   "cell_type": "markdown",
   "id": "56dfb358-2830-47db-bcf3-95d00594c05b",
   "metadata": {},
   "source": [
    "### Sample mean= (Sum of all value of dataset)/No. of value in dataset"
   ]
  },
  {
   "cell_type": "code",
   "execution_count": 3,
   "id": "538d313b-9ba8-4634-9c38-f35b2abf2ef8",
   "metadata": {},
   "outputs": [],
   "source": [
    "Tup=(51,62,43,56,55,43)"
   ]
  },
  {
   "cell_type": "code",
   "execution_count": 4,
   "id": "c3bbff97-340f-4cb8-985f-740abf08407e",
   "metadata": {},
   "outputs": [],
   "source": [
    "import numpy as np"
   ]
  },
  {
   "cell_type": "code",
   "execution_count": 6,
   "id": "db34aeef-18af-46df-ab62-744843d6bde9",
   "metadata": {},
   "outputs": [
    {
     "data": {
      "text/plain": [
       "51.666666666666664"
      ]
     },
     "execution_count": 6,
     "metadata": {},
     "output_type": "execute_result"
    }
   ],
   "source": [
    "np.mean(Tup)"
   ]
  },
  {
   "cell_type": "markdown",
   "id": "4d3cf703-4e9f-462e-b87a-006beb0f0dad",
   "metadata": {},
   "source": [
    "## Q12. For a normal distribution data what is the relationship between its measure of central tendency?"
   ]
  },
  {
   "cell_type": "markdown",
   "id": "9462920c-47dc-4145-82e1-1ead4ecce0aa",
   "metadata": {},
   "source": [
    "## Mean=Median=Mode"
   ]
  },
  {
   "cell_type": "markdown",
   "id": "992c49e8-34df-4577-b79c-b2ece86af20a",
   "metadata": {},
   "source": [
    "## Q13. How is covariance different from correlation?"
   ]
  },
  {
   "cell_type": "markdown",
   "id": "8e39a7b1-418d-4d1a-ba98-d1df05a46a81",
   "metadata": {},
   "source": [
    "### Value of covariance range from -inf to +inf, so only sign of covariance is significant. While value of correlation range from -1 to +1, here sign signifies +ve and -ve correlation and its value signifies change in one variable leads to percentage change in other variable."
   ]
  },
  {
   "cell_type": "markdown",
   "id": "6a339454-fcef-4bf2-841a-cf70c1d68b54",
   "metadata": {},
   "source": [
    "## Q14. How do outliers affect measures of central tendency and dispersion? Provide an example."
   ]
  },
  {
   "cell_type": "markdown",
   "id": "686adb20-02fe-4f76-8379-d272b657367e",
   "metadata": {},
   "source": [
    "### Mean(measure of central tendency) and Variance(measure of dispersion) deviate largely in presence of outliers"
   ]
  },
  {
   "cell_type": "code",
   "execution_count": 7,
   "id": "9a797026-346f-483f-a042-a804b24d00c8",
   "metadata": {},
   "outputs": [],
   "source": [
    "l=[2,4,5,9,10,3,2,5]"
   ]
  },
  {
   "cell_type": "code",
   "execution_count": 9,
   "id": "b89c6321-0602-44f9-9c04-cdd83ae6ce3e",
   "metadata": {},
   "outputs": [
    {
     "data": {
      "text/plain": [
       "5.0"
      ]
     },
     "execution_count": 9,
     "metadata": {},
     "output_type": "execute_result"
    }
   ],
   "source": [
    "np.mean(l)"
   ]
  },
  {
   "cell_type": "code",
   "execution_count": 12,
   "id": "56a89092-236a-4d84-949a-888f86510d4b",
   "metadata": {},
   "outputs": [
    {
     "data": {
      "text/plain": [
       "8.0"
      ]
     },
     "execution_count": 12,
     "metadata": {},
     "output_type": "execute_result"
    }
   ],
   "source": [
    "np.var(l)"
   ]
  },
  {
   "cell_type": "code",
   "execution_count": 18,
   "id": "4a79eaec-4f29-41c4-98b9-e5c69d62b58d",
   "metadata": {},
   "outputs": [],
   "source": [
    "### If\n",
    "l=[2,4,5,9,10,3,2,5,100]"
   ]
  },
  {
   "cell_type": "code",
   "execution_count": 20,
   "id": "69c199f6-41c0-4e23-b423-9b08a38e2d98",
   "metadata": {},
   "outputs": [
    {
     "data": {
      "text/plain": [
       "15.555555555555555"
      ]
     },
     "execution_count": 20,
     "metadata": {},
     "output_type": "execute_result"
    }
   ],
   "source": [
    "np.mean(l)"
   ]
  },
  {
   "cell_type": "code",
   "execution_count": 21,
   "id": "3755bf42-de2f-4808-ae4f-038bd61a6e01",
   "metadata": {},
   "outputs": [
    {
     "data": {
      "text/plain": [
       "898.469135802469"
      ]
     },
     "execution_count": 21,
     "metadata": {},
     "output_type": "execute_result"
    }
   ],
   "source": [
    "np.var(l)"
   ]
  }
 ],
 "metadata": {
  "kernelspec": {
   "display_name": "Python 3 (ipykernel)",
   "language": "python",
   "name": "python3"
  },
  "language_info": {
   "codemirror_mode": {
    "name": "ipython",
    "version": 3
   },
   "file_extension": ".py",
   "mimetype": "text/x-python",
   "name": "python",
   "nbconvert_exporter": "python",
   "pygments_lexer": "ipython3",
   "version": "3.10.8"
  }
 },
 "nbformat": 4,
 "nbformat_minor": 5
}
